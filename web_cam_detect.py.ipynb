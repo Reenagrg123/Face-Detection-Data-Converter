{
 "cells": [
  {
   "cell_type": "markdown",
   "metadata": {},
   "source": [
    "<h1> Detecting faces and eyes from WEB-CAM and also recorded the video </h1>"
   ]
  },
  {
   "cell_type": "code",
   "execution_count": 31,
   "metadata": {},
   "outputs": [],
   "source": [
    "import cv2"
   ]
  },
  {
   "cell_type": "code",
   "execution_count": 32,
   "metadata": {},
   "outputs": [],
   "source": [
    "face_cascade = cv2.CascadeClassifier('haarcascade_frontalface_default.xml') \n",
    "eye_cascade = cv2.CascadeClassifier('haarcascade_eye.xml') \n",
    "smile_cascade = cv2.CascadeClassifier('haarcascade_smile.xml') "
   ]
  },
  {
   "cell_type": "markdown",
   "metadata": {},
   "source": [
    "<h1> Blue color - Face <br>\n",
    "     Green Color-Eyes<br>\n",
    "     Red Color -Smile </h1>"
   ]
  },
  {
   "cell_type": "code",
   "execution_count": 33,
   "metadata": {},
   "outputs": [],
   "source": [
    "def detect(gray, frame): \n",
    "    faces = face_cascade.detectMultiScale(gray, 1.3, 5) \n",
    "    for (x, y, w, h) in faces: \n",
    "        cv2.rectangle(frame, (x, y), ((x + w), (y + h)), (255, 0, 0), 2) \n",
    "        roi_gray = gray[y:y + h, x:x + w] \n",
    "        roi_color = frame[y:y + h, x:x + w] \n",
    "        smiles = smile_cascade.detectMultiScale(roi_gray, 1.8, 20) \n",
    "        eyes = eye_cascade.detectMultiScale(roi_gray)\n",
    "        for (ex,ey,ew,eh) in eyes:\n",
    "            cv2.rectangle(roi_color,(ex,ey),(ex+ew,ey+eh),(0,255,0),2)  \n",
    "            \n",
    "        for (sx, sy, sw, sh) in smiles: \n",
    "            cv2.rectangle(roi_color, (sx, sy), ((sx + sw), (sy + sh)), (0, 0, 255), 2) \n",
    "    return frame "
   ]
  },
  {
   "cell_type": "code",
   "execution_count": 36,
   "metadata": {},
   "outputs": [],
   "source": [
    "#Opening the Web-Cam\n",
    "\n",
    "vid = cv2.VideoCapture(0) \n",
    "\n",
    "#For recording the video,we have to  make object of VideoWriter class\n",
    "\n",
    "mjpg=cv2.VideoWriter_fourcc(*'MJPG')\n",
    "vid_writer=cv2.VideoWriter(\"Web_cam_video.avi\",fourcc,20.0,(640,480))\n",
    "while True: \n",
    "   # Captures video_capture frame by frame \n",
    "    _, frame = vid.read() \n",
    "    \n",
    "    #recording the video\n",
    "    vid_writer.write(frame)\n",
    "  \n",
    "    # To capture image in monochrome                     \n",
    "    gray = cv2.cvtColor(frame, cv2.COLOR_BGR2GRAY)   \n",
    "      \n",
    "    # calls the detect() function     \n",
    "    canvas = detect(gray, frame)    \n",
    "  \n",
    "    # Displays the result on camera feed                      \n",
    "    cv2.imshow('Video', canvas)  \n",
    "  \n",
    "    # The control breaks once q key is pressed\n",
    "    key=cv2.waitKey(1)\n",
    "    if key==27:                \n",
    "        break\n",
    "  \n",
    "# Release the capture once all the processing is done. \n",
    "vid.release()                                  \n",
    "cv2.destroyAllWindows() \n"
   ]
  },
  {
   "cell_type": "markdown",
   "metadata": {},
   "source": [
    "<h1> Please press Esc to exit from camera <br><br>\n",
    "The video is also recorded ...You can find this by the name \"Web_cam_video\" in your current directory\n",
    "</h1>"
   ]
  }
 ],
 "metadata": {
  "kernelspec": {
   "display_name": "Python 3",
   "language": "python",
   "name": "python3"
  },
  "language_info": {
   "codemirror_mode": {
    "name": "ipython",
    "version": 3
   },
   "file_extension": ".py",
   "mimetype": "text/x-python",
   "name": "python",
   "nbconvert_exporter": "python",
   "pygments_lexer": "ipython3",
   "version": "3.7.3"
  }
 },
 "nbformat": 4,
 "nbformat_minor": 2
}
